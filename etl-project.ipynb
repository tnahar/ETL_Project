{
 "cells": [
  {
   "cell_type": "code",
   "execution_count": 20,
   "metadata": {},
   "outputs": [],
   "source": [
    "# SQL Alchemy\n",
    "from sqlalchemy import create_engine\n",
    "\n",
    "# PyMySQL \n",
    "import pymysql\n",
    "pymysql.install_as_MySQLdb()\n",
    "\n",
    "# Config variables\n",
    "from config import remote_db_endpoint, remote_db_port\n",
    "from config import remote_db_name, remote_db_user, remote_db_pwd\n",
    "from config import local_db_user, local_db_pwd, local_db_endpoint, local_db_port, local_db_name\n",
    "\n",
    "# Import Pandas\n",
    "import pandas as pd\n",
    "\n",
    "import psycopg2"
   ]
  },
  {
   "cell_type": "markdown",
   "metadata": {},
   "source": [
    "# Extract CSVs into DataFrames"
   ]
  },
  {
   "cell_type": "code",
   "execution_count": 2,
   "metadata": {},
   "outputs": [
    {
     "data": {
      "text/html": [
       "<div>\n",
       "<style scoped>\n",
       "    .dataframe tbody tr th:only-of-type {\n",
       "        vertical-align: middle;\n",
       "    }\n",
       "\n",
       "    .dataframe tbody tr th {\n",
       "        vertical-align: top;\n",
       "    }\n",
       "\n",
       "    .dataframe thead th {\n",
       "        text-align: right;\n",
       "    }\n",
       "</style>\n",
       "<table border=\"1\" class=\"dataframe\">\n",
       "  <thead>\n",
       "    <tr style=\"text-align: right;\">\n",
       "      <th></th>\n",
       "      <th>#</th>\n",
       "      <th>State</th>\n",
       "      <th>Total Cases</th>\n",
       "      <th>New Cases</th>\n",
       "      <th>Total Deaths</th>\n",
       "      <th>New Deaths</th>\n",
       "      <th>Total Recovered</th>\n",
       "      <th>Active Cases</th>\n",
       "      <th>Total Cases per million</th>\n",
       "      <th>Total Deaths per million</th>\n",
       "      <th>Tests</th>\n",
       "      <th>Tests per million</th>\n",
       "      <th>Total Population</th>\n",
       "    </tr>\n",
       "  </thead>\n",
       "  <tbody>\n",
       "    <tr>\n",
       "      <th>0</th>\n",
       "      <td>1.0</td>\n",
       "      <td>California</td>\n",
       "      <td>20,653,265</td>\n",
       "      <td>35,919</td>\n",
       "      <td>356,743</td>\n",
       "      <td>298.0</td>\n",
       "      <td>12,182,160</td>\n",
       "      <td>8,114,362</td>\n",
       "      <td>62,396</td>\n",
       "      <td>1,078</td>\n",
       "      <td>254,907,318</td>\n",
       "      <td>770,107</td>\n",
       "      <td>39,512,223</td>\n",
       "    </tr>\n",
       "    <tr>\n",
       "      <th>1</th>\n",
       "      <td>2.0</td>\n",
       "      <td>Texas</td>\n",
       "      <td>2,345,657</td>\n",
       "      <td>NaN</td>\n",
       "      <td>26,294</td>\n",
       "      <td>NaN</td>\n",
       "      <td>971,395</td>\n",
       "      <td>1,347,968</td>\n",
       "      <td>59,365</td>\n",
       "      <td>665</td>\n",
       "      <td>33,058,311</td>\n",
       "      <td>836,660</td>\n",
       "      <td>28,995,881</td>\n",
       "    </tr>\n",
       "    <tr>\n",
       "      <th>2</th>\n",
       "      <td>3.0</td>\n",
       "      <td>Florida</td>\n",
       "      <td>1,784,569</td>\n",
       "      <td>NaN</td>\n",
       "      <td>28,506</td>\n",
       "      <td>NaN</td>\n",
       "      <td>1,453,639</td>\n",
       "      <td>302,424</td>\n",
       "      <td>61,546</td>\n",
       "      <td>983</td>\n",
       "      <td>15,832,807</td>\n",
       "      <td>546,036</td>\n",
       "      <td>21,477,737</td>\n",
       "    </tr>\n",
       "    <tr>\n",
       "      <th>3</th>\n",
       "      <td>4.0</td>\n",
       "      <td>New York</td>\n",
       "      <td>1,323,315</td>\n",
       "      <td>NaN</td>\n",
       "      <td>21,673</td>\n",
       "      <td>NaN</td>\n",
       "      <td>735,381</td>\n",
       "      <td>566,261</td>\n",
       "      <td>61,613</td>\n",
       "      <td>1,009</td>\n",
       "      <td>15,703,599</td>\n",
       "      <td>731,157</td>\n",
       "      <td>19,453,561</td>\n",
       "    </tr>\n",
       "    <tr>\n",
       "      <th>4</th>\n",
       "      <td>5.0</td>\n",
       "      <td>Illinois</td>\n",
       "      <td>1,031,053</td>\n",
       "      <td>NaN</td>\n",
       "      <td>38,145</td>\n",
       "      <td>NaN</td>\n",
       "      <td>478,718</td>\n",
       "      <td>514,190</td>\n",
       "      <td>53,001</td>\n",
       "      <td>1,961</td>\n",
       "      <td>25,504,313</td>\n",
       "      <td>1,311,036</td>\n",
       "      <td>12,671,821</td>\n",
       "    </tr>\n",
       "  </tbody>\n",
       "</table>\n",
       "</div>"
      ],
      "text/plain": [
       "     #       State Total Cases New Cases Total Deaths  New Deaths  \\\n",
       "0  1.0  California  20,653,265    35,919      356,743       298.0   \n",
       "1  2.0       Texas   2,345,657       NaN       26,294         NaN   \n",
       "2  3.0     Florida   1,784,569       NaN       28,506         NaN   \n",
       "3  4.0    New York   1,323,315       NaN       21,673         NaN   \n",
       "4  5.0    Illinois   1,031,053       NaN       38,145         NaN   \n",
       "\n",
       "  Total Recovered Active Cases Total Cases per million  \\\n",
       "0      12,182,160    8,114,362                  62,396   \n",
       "1         971,395    1,347,968                  59,365   \n",
       "2       1,453,639      302,424                  61,546   \n",
       "3         735,381      566,261                  61,613   \n",
       "4         478,718      514,190                  53,001   \n",
       "\n",
       "  Total Deaths per million        Tests Tests per million Total Population  \n",
       "0                    1,078  254,907,318           770,107       39,512,223  \n",
       "1                      665   33,058,311           836,660       28,995,881  \n",
       "2                      983   15,832,807           546,036       21,477,737  \n",
       "3                    1,009   15,703,599           731,157       19,453,561  \n",
       "4                    1,961   25,504,313         1,311,036       12,671,821  "
      ]
     },
     "execution_count": 2,
     "metadata": {},
     "output_type": "execute_result"
    }
   ],
   "source": [
    "covid_cases_file = 'covid-cases-by-state.csv'\n",
    "covid_cases = pd.read_csv(covid_cases_file, encoding= 'unicode_escape')\n",
    "covid_cases.head()"
   ]
  },
  {
   "cell_type": "code",
   "execution_count": 3,
   "metadata": {},
   "outputs": [
    {
     "data": {
      "text/html": [
       "<div>\n",
       "<style scoped>\n",
       "    .dataframe tbody tr th:only-of-type {\n",
       "        vertical-align: middle;\n",
       "    }\n",
       "\n",
       "    .dataframe tbody tr th {\n",
       "        vertical-align: top;\n",
       "    }\n",
       "\n",
       "    .dataframe thead th {\n",
       "        text-align: right;\n",
       "    }\n",
       "</style>\n",
       "<table border=\"1\" class=\"dataframe\">\n",
       "  <thead>\n",
       "    <tr style=\"text-align: right;\">\n",
       "      <th></th>\n",
       "      <th>Provider Name</th>\n",
       "      <th>State</th>\n",
       "      <th>City</th>\n",
       "      <th>Payment</th>\n",
       "    </tr>\n",
       "  </thead>\n",
       "  <tbody>\n",
       "    <tr>\n",
       "      <th>0</th>\n",
       "      <td>BRANDON ASTIN DMD LLC</td>\n",
       "      <td>AK</td>\n",
       "      <td>ANCHOR POINT</td>\n",
       "      <td>$19,003</td>\n",
       "    </tr>\n",
       "    <tr>\n",
       "      <th>1</th>\n",
       "      <td>ELIZABETH WATNEY</td>\n",
       "      <td>AK</td>\n",
       "      <td>ANCHOR POINT</td>\n",
       "      <td>$724</td>\n",
       "    </tr>\n",
       "    <tr>\n",
       "      <th>2</th>\n",
       "      <td>A HAND UP BEHAVIOR SERVICES</td>\n",
       "      <td>AK</td>\n",
       "      <td>ANCHORAGE</td>\n",
       "      <td>$1,191</td>\n",
       "    </tr>\n",
       "    <tr>\n",
       "      <th>3</th>\n",
       "      <td>A JOINT EFFORT PHYSICAL THERAPY</td>\n",
       "      <td>AK</td>\n",
       "      <td>ANCHORAGE</td>\n",
       "      <td>$11,641</td>\n",
       "    </tr>\n",
       "    <tr>\n",
       "      <th>4</th>\n",
       "      <td>AA PAIN CLINIC, INC.</td>\n",
       "      <td>AK</td>\n",
       "      <td>ANCHORAGE</td>\n",
       "      <td>$69,976</td>\n",
       "    </tr>\n",
       "  </tbody>\n",
       "</table>\n",
       "</div>"
      ],
      "text/plain": [
       "                     Provider Name State          City   Payment\n",
       "0            BRANDON ASTIN DMD LLC    AK  ANCHOR POINT  $19,003 \n",
       "1                 ELIZABETH WATNEY    AK  ANCHOR POINT     $724 \n",
       "2      A HAND UP BEHAVIOR SERVICES    AK     ANCHORAGE   $1,191 \n",
       "3  A JOINT EFFORT PHYSICAL THERAPY    AK     ANCHORAGE  $11,641 \n",
       "4             AA PAIN CLINIC, INC.    AK     ANCHORAGE  $69,976 "
      ]
     },
     "execution_count": 3,
     "metadata": {},
     "output_type": "execute_result"
    }
   ],
   "source": [
    "relief_funds_file = 'HHS_Provider_Relief_Fund.csv'\n",
    "relief_funds = pd.read_csv(relief_funds_file, encoding= 'unicode_escape')\n",
    "relief_funds.head()"
   ]
  },
  {
   "cell_type": "code",
   "execution_count": 4,
   "metadata": {},
   "outputs": [
    {
     "data": {
      "text/html": [
       "<div>\n",
       "<style scoped>\n",
       "    .dataframe tbody tr th:only-of-type {\n",
       "        vertical-align: middle;\n",
       "    }\n",
       "\n",
       "    .dataframe tbody tr th {\n",
       "        vertical-align: top;\n",
       "    }\n",
       "\n",
       "    .dataframe thead th {\n",
       "        text-align: right;\n",
       "    }\n",
       "</style>\n",
       "<table border=\"1\" class=\"dataframe\">\n",
       "  <thead>\n",
       "    <tr style=\"text-align: right;\">\n",
       "      <th></th>\n",
       "      <th>State</th>\n",
       "      <th>Abbrev</th>\n",
       "      <th>Code</th>\n",
       "    </tr>\n",
       "  </thead>\n",
       "  <tbody>\n",
       "    <tr>\n",
       "      <th>0</th>\n",
       "      <td>Alabama</td>\n",
       "      <td>Ala.</td>\n",
       "      <td>AL</td>\n",
       "    </tr>\n",
       "    <tr>\n",
       "      <th>1</th>\n",
       "      <td>Alaska</td>\n",
       "      <td>Alaska</td>\n",
       "      <td>AK</td>\n",
       "    </tr>\n",
       "    <tr>\n",
       "      <th>2</th>\n",
       "      <td>Arizona</td>\n",
       "      <td>Ariz.</td>\n",
       "      <td>AZ</td>\n",
       "    </tr>\n",
       "    <tr>\n",
       "      <th>3</th>\n",
       "      <td>Arkansas</td>\n",
       "      <td>Ark.</td>\n",
       "      <td>AR</td>\n",
       "    </tr>\n",
       "    <tr>\n",
       "      <th>4</th>\n",
       "      <td>California</td>\n",
       "      <td>Calif.</td>\n",
       "      <td>CA</td>\n",
       "    </tr>\n",
       "  </tbody>\n",
       "</table>\n",
       "</div>"
      ],
      "text/plain": [
       "        State  Abbrev Code\n",
       "0     Alabama    Ala.   AL\n",
       "1      Alaska  Alaska   AK\n",
       "2     Arizona   Ariz.   AZ\n",
       "3    Arkansas    Ark.   AR\n",
       "4  California  Calif.   CA"
      ]
     },
     "execution_count": 4,
     "metadata": {},
     "output_type": "execute_result"
    }
   ],
   "source": [
    "state_abbreviations_file = 'state_abbreviations.csv'\n",
    "state_abbreviations = pd.read_csv(state_abbreviations_file, encoding='utf-8-sig')\n",
    "state_abbreviations.head()\n"
   ]
  },
  {
   "cell_type": "markdown",
   "metadata": {},
   "source": [
    "# Transform DataFrames"
   ]
  },
  {
   "cell_type": "code",
   "execution_count": 5,
   "metadata": {},
   "outputs": [
    {
     "data": {
      "text/html": [
       "<div>\n",
       "<style scoped>\n",
       "    .dataframe tbody tr th:only-of-type {\n",
       "        vertical-align: middle;\n",
       "    }\n",
       "\n",
       "    .dataframe tbody tr th {\n",
       "        vertical-align: top;\n",
       "    }\n",
       "\n",
       "    .dataframe thead th {\n",
       "        text-align: right;\n",
       "    }\n",
       "</style>\n",
       "<table border=\"1\" class=\"dataframe\">\n",
       "  <thead>\n",
       "    <tr style=\"text-align: right;\">\n",
       "      <th></th>\n",
       "      <th>State</th>\n",
       "      <th>Total Cases</th>\n",
       "      <th>Total Deaths</th>\n",
       "      <th>Total Cases per million</th>\n",
       "      <th>Total Deaths per million</th>\n",
       "      <th>Tests</th>\n",
       "      <th>Tests per million</th>\n",
       "      <th>Total Population</th>\n",
       "    </tr>\n",
       "  </thead>\n",
       "  <tbody>\n",
       "    <tr>\n",
       "      <th>0</th>\n",
       "      <td>California</td>\n",
       "      <td>20,653,265</td>\n",
       "      <td>356,743</td>\n",
       "      <td>62,396</td>\n",
       "      <td>1,078</td>\n",
       "      <td>254,907,318</td>\n",
       "      <td>770,107</td>\n",
       "      <td>39,512,223</td>\n",
       "    </tr>\n",
       "    <tr>\n",
       "      <th>1</th>\n",
       "      <td>Texas</td>\n",
       "      <td>2,345,657</td>\n",
       "      <td>26,294</td>\n",
       "      <td>59,365</td>\n",
       "      <td>665</td>\n",
       "      <td>33,058,311</td>\n",
       "      <td>836,660</td>\n",
       "      <td>28,995,881</td>\n",
       "    </tr>\n",
       "    <tr>\n",
       "      <th>2</th>\n",
       "      <td>Florida</td>\n",
       "      <td>1,784,569</td>\n",
       "      <td>28,506</td>\n",
       "      <td>61,546</td>\n",
       "      <td>983</td>\n",
       "      <td>15,832,807</td>\n",
       "      <td>546,036</td>\n",
       "      <td>21,477,737</td>\n",
       "    </tr>\n",
       "    <tr>\n",
       "      <th>3</th>\n",
       "      <td>New York</td>\n",
       "      <td>1,323,315</td>\n",
       "      <td>21,673</td>\n",
       "      <td>61,613</td>\n",
       "      <td>1,009</td>\n",
       "      <td>15,703,599</td>\n",
       "      <td>731,157</td>\n",
       "      <td>19,453,561</td>\n",
       "    </tr>\n",
       "    <tr>\n",
       "      <th>4</th>\n",
       "      <td>Illinois</td>\n",
       "      <td>1,031,053</td>\n",
       "      <td>38,145</td>\n",
       "      <td>53,001</td>\n",
       "      <td>1,961</td>\n",
       "      <td>25,504,313</td>\n",
       "      <td>1,311,036</td>\n",
       "      <td>12,671,821</td>\n",
       "    </tr>\n",
       "    <tr>\n",
       "      <th>...</th>\n",
       "      <td>...</td>\n",
       "      <td>...</td>\n",
       "      <td>...</td>\n",
       "      <td>...</td>\n",
       "      <td>...</td>\n",
       "      <td>...</td>\n",
       "      <td>...</td>\n",
       "      <td>...</td>\n",
       "    </tr>\n",
       "    <tr>\n",
       "      <th>60</th>\n",
       "      <td>Grand Princess Ship</td>\n",
       "      <td>23,429</td>\n",
       "      <td>813</td>\n",
       "      <td>NaN</td>\n",
       "      <td>NaN</td>\n",
       "      <td>204,307</td>\n",
       "      <td>NaN</td>\n",
       "      <td>NaN</td>\n",
       "    </tr>\n",
       "    <tr>\n",
       "      <th>61</th>\n",
       "      <td>Wuhan Repatriated</td>\n",
       "      <td>122</td>\n",
       "      <td>7</td>\n",
       "      <td>NaN</td>\n",
       "      <td>NaN</td>\n",
       "      <td>NaN</td>\n",
       "      <td>NaN</td>\n",
       "      <td>NaN</td>\n",
       "    </tr>\n",
       "    <tr>\n",
       "      <th>62</th>\n",
       "      <td>Diamond Princess Ship</td>\n",
       "      <td>3</td>\n",
       "      <td>NaN</td>\n",
       "      <td>NaN</td>\n",
       "      <td>NaN</td>\n",
       "      <td>3</td>\n",
       "      <td>NaN</td>\n",
       "      <td>NaN</td>\n",
       "    </tr>\n",
       "    <tr>\n",
       "      <th>63</th>\n",
       "      <td>Total:</td>\n",
       "      <td>46</td>\n",
       "      <td>NaN</td>\n",
       "      <td>NaN</td>\n",
       "      <td>NaN</td>\n",
       "      <td>46</td>\n",
       "      <td>NaN</td>\n",
       "      <td>NaN</td>\n",
       "    </tr>\n",
       "    <tr>\n",
       "      <th>64</th>\n",
       "      <td>NaN</td>\n",
       "      <td>20,653,265</td>\n",
       "      <td>356,743</td>\n",
       "      <td>62,396</td>\n",
       "      <td>1,078</td>\n",
       "      <td>254,907,318</td>\n",
       "      <td>770,107</td>\n",
       "      <td>NaN</td>\n",
       "    </tr>\n",
       "  </tbody>\n",
       "</table>\n",
       "<p>65 rows × 8 columns</p>\n",
       "</div>"
      ],
      "text/plain": [
       "                    State Total Cases Total Deaths Total Cases per million  \\\n",
       "0              California  20,653,265      356,743                  62,396   \n",
       "1                   Texas   2,345,657       26,294                  59,365   \n",
       "2                 Florida   1,784,569       28,506                  61,546   \n",
       "3                New York   1,323,315       21,673                  61,613   \n",
       "4                Illinois   1,031,053       38,145                  53,001   \n",
       "..                    ...         ...          ...                     ...   \n",
       "60    Grand Princess Ship      23,429          813                     NaN   \n",
       "61      Wuhan Repatriated         122            7                     NaN   \n",
       "62  Diamond Princess Ship           3          NaN                     NaN   \n",
       "63                 Total:          46          NaN                     NaN   \n",
       "64                    NaN  20,653,265      356,743                  62,396   \n",
       "\n",
       "   Total Deaths per million        Tests Tests per million Total Population  \n",
       "0                     1,078  254,907,318           770,107       39,512,223  \n",
       "1                       665   33,058,311           836,660       28,995,881  \n",
       "2                       983   15,832,807           546,036       21,477,737  \n",
       "3                     1,009   15,703,599           731,157       19,453,561  \n",
       "4                     1,961   25,504,313         1,311,036       12,671,821  \n",
       "..                      ...          ...               ...              ...  \n",
       "60                      NaN      204,307               NaN              NaN  \n",
       "61                      NaN          NaN               NaN              NaN  \n",
       "62                      NaN            3               NaN              NaN  \n",
       "63                      NaN           46               NaN              NaN  \n",
       "64                    1,078  254,907,318           770,107              NaN  \n",
       "\n",
       "[65 rows x 8 columns]"
      ]
     },
     "execution_count": 5,
     "metadata": {},
     "output_type": "execute_result"
    }
   ],
   "source": [
    "#extract only relavent columns\n",
    "covid_cases = covid_cases[['State', 'Total Cases', 'Total Deaths', 'Total Cases per million', 'Total Deaths per million', 'Tests', 'Tests per million', 'Total Population']]\n",
    "covid_cases"
   ]
  },
  {
   "cell_type": "code",
   "execution_count": 6,
   "metadata": {},
   "outputs": [
    {
     "data": {
      "text/plain": [
       "Provider Name     object\n",
       "State             object\n",
       "City              object\n",
       "Payment          float64\n",
       "dtype: object"
      ]
     },
     "execution_count": 6,
     "metadata": {},
     "output_type": "execute_result"
    }
   ],
   "source": [
    "relief_funds['Payment'] = relief_funds['Payment'].replace({'\\$':''}, regex = True)\n",
    "relief_funds['Payment'] = relief_funds['Payment'].replace({' ':''}, regex = True)\n",
    "relief_funds['Payment'] = relief_funds['Payment'].replace({',':''}, regex = True)\n",
    "relief_funds['Payment'] = relief_funds['Payment'].astype(float)\n",
    "relief_funds.dtypes\n",
    "#relief_funds"
   ]
  },
  {
   "cell_type": "code",
   "execution_count": 7,
   "metadata": {},
   "outputs": [
    {
     "data": {
      "text/html": [
       "<div>\n",
       "<style scoped>\n",
       "    .dataframe tbody tr th:only-of-type {\n",
       "        vertical-align: middle;\n",
       "    }\n",
       "\n",
       "    .dataframe tbody tr th {\n",
       "        vertical-align: top;\n",
       "    }\n",
       "\n",
       "    .dataframe thead th {\n",
       "        text-align: right;\n",
       "    }\n",
       "</style>\n",
       "<table border=\"1\" class=\"dataframe\">\n",
       "  <thead>\n",
       "    <tr style=\"text-align: right;\">\n",
       "      <th></th>\n",
       "      <th>State</th>\n",
       "      <th>Payment</th>\n",
       "    </tr>\n",
       "  </thead>\n",
       "  <tbody>\n",
       "    <tr>\n",
       "      <th>0</th>\n",
       "      <td>AK</td>\n",
       "      <td>$222,894,177.0</td>\n",
       "    </tr>\n",
       "    <tr>\n",
       "      <th>1</th>\n",
       "      <td>AL</td>\n",
       "      <td>$1,304,513,045.0</td>\n",
       "    </tr>\n",
       "    <tr>\n",
       "      <th>2</th>\n",
       "      <td>AR</td>\n",
       "      <td>$925,881,569.0</td>\n",
       "    </tr>\n",
       "    <tr>\n",
       "      <th>3</th>\n",
       "      <td>AS</td>\n",
       "      <td>$5,950,917.0</td>\n",
       "    </tr>\n",
       "    <tr>\n",
       "      <th>4</th>\n",
       "      <td>AZ</td>\n",
       "      <td>$1,473,716,024.0</td>\n",
       "    </tr>\n",
       "  </tbody>\n",
       "</table>\n",
       "</div>"
      ],
      "text/plain": [
       "  State           Payment\n",
       "0    AK    $222,894,177.0\n",
       "1    AL  $1,304,513,045.0\n",
       "2    AR    $925,881,569.0\n",
       "3    AS      $5,950,917.0\n",
       "4    AZ  $1,473,716,024.0"
      ]
     },
     "execution_count": 7,
     "metadata": {},
     "output_type": "execute_result"
    }
   ],
   "source": [
    "payments_by_state = relief_funds[['State', 'Payment']].groupby('State').sum()\n",
    "len(payments_by_state)\n",
    "payments_by_state = payments_by_state.reset_index()\n",
    "payments_by_state['Payment'] = payments_by_state['Payment'].map(\"${:,}\".format)\n",
    "payments_by_state.head()"
   ]
  },
  {
   "cell_type": "markdown",
   "metadata": {},
   "source": [
    "# Create Local Database Connection"
   ]
  },
  {
   "cell_type": "code",
   "execution_count": 8,
   "metadata": {},
   "outputs": [],
   "source": [
    "# Create Engine and Pass in MySQL Connection\n",
    "\n",
    "# local Postgres DB Connection  \n",
    "local_engine = create_engine(f\"postgresql://{local_db_user}:{local_db_pwd}@{local_db_endpoint}:{local_db_port}\")\n",
    "#print(f\"postgresql://{local_db_user}:{local_db_pwd}@{local_db_endpoint}:{local_db_port}\")\n",
    "\n",
    "# Create a local database engine connection\n",
    "local_conn = local_engine.connect()"
   ]
  },
  {
   "cell_type": "code",
   "execution_count": 9,
   "metadata": {},
   "outputs": [
    {
     "name": "stdout",
     "output_type": "stream",
     "text": [
      "(psycopg2.errors.DuplicateDatabase) database \"etl_project_db\" already exists\n",
      "\n",
      "[SQL: CREATE DATABASE etl_project_db]\n",
      "(Background on this error at: http://sqlalche.me/e/13/f405)\n"
     ]
    },
    {
     "data": {
      "text/plain": [
       "['relief_provider',\n",
       " 'relief_payments_by_state',\n",
       " 'covid_cases',\n",
       " 'state_abbreviations',\n",
       " 'merged_df']"
      ]
     },
     "execution_count": 9,
     "metadata": {},
     "output_type": "execute_result"
    }
   ],
   "source": [
    "# Create local database\n",
    "try:\n",
    "    local_conn.execution_options(isolation_level=\"AUTOCOMMIT\").execute(f\"CREATE DATABASE {local_db_name}\")\n",
    "except Exception as e:\n",
    "    print(e)\n",
    "\n",
    "# Connect to local database\n",
    "try:\n",
    "    local_engine = create_engine(f\"postgresql://{local_db_user}:{local_db_pwd}@{local_db_endpoint}:{local_db_port}/{local_db_name}\")\n",
    "    local_conn = local_engine.connect()\n",
    "except Exception as e:\n",
    "    print(e)  \n",
    "    \n",
    "#confirm tables\n",
    "local_engine.table_names()"
   ]
  },
  {
   "cell_type": "markdown",
   "metadata": {
    "collapsed": true
   },
   "source": [
    "# Create Cloud Database Connection"
   ]
  },
  {
   "cell_type": "code",
   "execution_count": 25,
   "metadata": {},
   "outputs": [],
   "source": [
    "# Create Engine and Pass in MySQL Connection\n",
    "\n",
    "# Cloud MySQL Database Connection on AWS\n",
    "cloud_engine = create_engine(f\"mysql://{remote_db_user}:{remote_db_pwd}@{remote_db_endpoint}:{remote_db_port}\")\n",
    "\n",
    "# Create a remote database engine connection\n",
    "cloud_conn = cloud_engine.connect()"
   ]
  },
  {
   "cell_type": "code",
   "execution_count": 26,
   "metadata": {},
   "outputs": [
    {
     "name": "stdout",
     "output_type": "stream",
     "text": [
      "(pymysql.err.ProgrammingError) (1007, \"Can't create database 'etl_project_db'; database exists\")\n",
      "[SQL: CREATE DATABASE etl_project_db]\n",
      "(Background on this error at: http://sqlalche.me/e/13/f405)\n"
     ]
    },
    {
     "data": {
      "text/plain": [
       "[]"
      ]
     },
     "execution_count": 26,
     "metadata": {},
     "output_type": "execute_result"
    }
   ],
   "source": [
    "# Create cloud database\n",
    "try:\n",
    "    cloud_conn.execution_options(isolation_level=\"AUTOCOMMIT\").execute(f\"CREATE DATABASE {remote_db_name}\")\n",
    "except Exception as e:\n",
    "    print(e)\n",
    "    \n",
    "# Connect to cloud database\n",
    "try:\n",
    "    cloud_engine = create_engine(f\"mysql://{remote_db_user}:{remote_db_pwd}@{remote_db_endpoint}:{remote_db_port}/{remote_db_name}\")\n",
    "    cloud_conn = cloud_engine.connect()\n",
    "except Exception as e:\n",
    "    print(e)   \n",
    "    \n",
    "#confirm tables\n",
    "cloud_engine.table_names()"
   ]
  },
  {
   "cell_type": "markdown",
   "metadata": {},
   "source": [
    "# Load DataFrames into Local Database"
   ]
  },
  {
   "cell_type": "code",
   "execution_count": 13,
   "metadata": {},
   "outputs": [],
   "source": [
    "#upload dataframe to database\n",
    "relief_funds.to_sql(name='relief_provider', if_exists='replace', con=local_conn, index=False)\n",
    "payments_by_state.to_sql(name='relief_payments_by_state', if_exists='replace', con=local_conn, index=False)\n",
    "covid_cases.to_sql(name='covid_cases', if_exists='replace', con=local_conn, index=False)\n",
    "state_abbreviations.to_sql(name='state_abbreviations', if_exists='replace', con=local_conn, index=False)"
   ]
  },
  {
   "cell_type": "code",
   "execution_count": 14,
   "metadata": {},
   "outputs": [
    {
     "data": {
      "text/plain": [
       "['merged_df',\n",
       " 'relief_provider',\n",
       " 'relief_payments_by_state',\n",
       " 'covid_cases',\n",
       " 'state_abbreviations']"
      ]
     },
     "execution_count": 14,
     "metadata": {},
     "output_type": "execute_result"
    }
   ],
   "source": [
    "#confirm tables\n",
    "local_engine.table_names()"
   ]
  },
  {
   "cell_type": "markdown",
   "metadata": {},
   "source": [
    "# Load DataFrames into Cloud Database"
   ]
  },
  {
   "cell_type": "code",
   "execution_count": 28,
   "metadata": {},
   "outputs": [],
   "source": [
    "#upload dataframe to database\n",
    "relief_funds.to_sql(name='relief_provider', if_exists='replace', con=cloud_conn, index=False)\n",
    "payments_by_state.to_sql(name='relief_payments_by_state', if_exists='replace', con=cloud_conn, index=False)\n",
    "covid_cases.to_sql(name='covid_cases', if_exists='replace', con=cloud_conn, index=False)\n",
    "state_abbreviations.to_sql(name='state_abbreviations', if_exists='replace', con=cloud_conn, index=False)"
   ]
  },
  {
   "cell_type": "code",
   "execution_count": 29,
   "metadata": {},
   "outputs": [
    {
     "data": {
      "text/plain": [
       "['covid_cases',\n",
       " 'relief_payments_by_state',\n",
       " 'relief_provider',\n",
       " 'state_abbreviations']"
      ]
     },
     "execution_count": 29,
     "metadata": {},
     "output_type": "execute_result"
    }
   ],
   "source": [
    "#confirm tables\n",
    "cloud_engine.table_names()"
   ]
  },
  {
   "cell_type": "markdown",
   "metadata": {},
   "source": [
    "# Create Merged Table and Load to Databases"
   ]
  },
  {
   "cell_type": "code",
   "execution_count": 17,
   "metadata": {},
   "outputs": [
    {
     "data": {
      "text/html": [
       "<div>\n",
       "<style scoped>\n",
       "    .dataframe tbody tr th:only-of-type {\n",
       "        vertical-align: middle;\n",
       "    }\n",
       "\n",
       "    .dataframe tbody tr th {\n",
       "        vertical-align: top;\n",
       "    }\n",
       "\n",
       "    .dataframe thead th {\n",
       "        text-align: right;\n",
       "    }\n",
       "</style>\n",
       "<table border=\"1\" class=\"dataframe\">\n",
       "  <thead>\n",
       "    <tr style=\"text-align: right;\">\n",
       "      <th></th>\n",
       "      <th>State Code</th>\n",
       "      <th>state</th>\n",
       "      <th>Total Cases</th>\n",
       "      <th>Total Deaths</th>\n",
       "      <th>Payment</th>\n",
       "    </tr>\n",
       "  </thead>\n",
       "  <tbody>\n",
       "    <tr>\n",
       "      <th>0</th>\n",
       "      <td>AL</td>\n",
       "      <td>Alabama</td>\n",
       "      <td>375,178</td>\n",
       "      <td>12,423</td>\n",
       "      <td>$1,304,513,045.0</td>\n",
       "    </tr>\n",
       "    <tr>\n",
       "      <th>1</th>\n",
       "      <td>AK</td>\n",
       "      <td>Alaska</td>\n",
       "      <td>58,064</td>\n",
       "      <td>930</td>\n",
       "      <td>$222,894,177.0</td>\n",
       "    </tr>\n",
       "    <tr>\n",
       "      <th>2</th>\n",
       "      <td>AZ</td>\n",
       "      <td>Arizona</td>\n",
       "      <td>539,545</td>\n",
       "      <td>6,748</td>\n",
       "      <td>$1,473,716,024.0</td>\n",
       "    </tr>\n",
       "    <tr>\n",
       "      <th>3</th>\n",
       "      <td>AR</td>\n",
       "      <td>Arkansas</td>\n",
       "      <td>229,556</td>\n",
       "      <td>2,879</td>\n",
       "      <td>$925,881,569.0</td>\n",
       "    </tr>\n",
       "    <tr>\n",
       "      <th>4</th>\n",
       "      <td>CA</td>\n",
       "      <td>California</td>\n",
       "      <td>20,653,265</td>\n",
       "      <td>356,743</td>\n",
       "      <td>$8,436,326,765.0</td>\n",
       "    </tr>\n",
       "  </tbody>\n",
       "</table>\n",
       "</div>"
      ],
      "text/plain": [
       "  State Code       state Total Cases Total Deaths           Payment\n",
       "0         AL     Alabama     375,178       12,423  $1,304,513,045.0\n",
       "1         AK      Alaska      58,064          930    $222,894,177.0\n",
       "2         AZ     Arizona     539,545        6,748  $1,473,716,024.0\n",
       "3         AR    Arkansas     229,556        2,879    $925,881,569.0\n",
       "4         CA  California  20,653,265      356,743  $8,436,326,765.0"
      ]
     },
     "execution_count": 17,
     "metadata": {},
     "output_type": "execute_result"
    }
   ],
   "source": [
    "#create merged table\n",
    "merged_df = pd.read_sql('''\n",
    "                            select \n",
    "                                state_abbreviations.\"Code\" as \"State Code\",\n",
    "                                state_abbreviations.\"State\" as state,\n",
    "                                covid_cases.\"Total Cases\", \n",
    "                                covid_cases.\"Total Deaths\",\n",
    "                                relief_payments_by_state.\"Payment\"\n",
    "\n",
    "                            from\n",
    "                                covid_cases \n",
    "\n",
    "                            inner join\n",
    "                                state_abbreviations \n",
    "\n",
    "                            on \n",
    "                                covid_cases.\"State\" = state_abbreviations.\"State\"\n",
    "\n",
    "                            inner join\n",
    "                                relief_payments_by_state\n",
    "\n",
    "                            on\n",
    "                                relief_payments_by_state.\"State\" = state_abbreviations.\"Code\"\n",
    "                        ''', \n",
    "                        local_engine)\n",
    "\n",
    "merged_df.head()"
   ]
  },
  {
   "cell_type": "code",
   "execution_count": null,
   "metadata": {},
   "outputs": [],
   "source": [
    "pd.read_sql"
   ]
  },
  {
   "cell_type": "code",
   "execution_count": 18,
   "metadata": {},
   "outputs": [
    {
     "data": {
      "text/plain": [
       "['relief_provider',\n",
       " 'relief_payments_by_state',\n",
       " 'covid_cases',\n",
       " 'state_abbreviations',\n",
       " 'merged_df']"
      ]
     },
     "execution_count": 18,
     "metadata": {},
     "output_type": "execute_result"
    }
   ],
   "source": [
    "#load merged_df into local dataframe\n",
    "merged_df.to_sql(name='merged_df', if_exists='replace', con=local_conn, index=False)\n",
    "\n",
    "#confirm tables\n",
    "local_engine.table_names()"
   ]
  },
  {
   "cell_type": "code",
   "execution_count": 30,
   "metadata": {},
   "outputs": [
    {
     "data": {
      "text/plain": [
       "['covid_cases',\n",
       " 'merged_df',\n",
       " 'relief_payments_by_state',\n",
       " 'relief_provider',\n",
       " 'state_abbreviations']"
      ]
     },
     "execution_count": 30,
     "metadata": {},
     "output_type": "execute_result"
    }
   ],
   "source": [
    "#load merged_df into cloud dataframe\n",
    "merged_df.to_sql(name='merged_df', if_exists='replace', con=cloud_conn, index=False)\n",
    "\n",
    "#confirm tables\n",
    "cloud_engine.table_names()"
   ]
  },
  {
   "cell_type": "code",
   "execution_count": null,
   "metadata": {},
   "outputs": [],
   "source": []
  }
 ],
 "metadata": {
  "kernelspec": {
   "display_name": "Python 3",
   "language": "python",
   "name": "python3"
  },
  "language_info": {
   "codemirror_mode": {
    "name": "ipython",
    "version": 3
   },
   "file_extension": ".py",
   "mimetype": "text/x-python",
   "name": "python",
   "nbconvert_exporter": "python",
   "pygments_lexer": "ipython3",
   "version": "3.8.3"
  }
 },
 "nbformat": 4,
 "nbformat_minor": 4
}
